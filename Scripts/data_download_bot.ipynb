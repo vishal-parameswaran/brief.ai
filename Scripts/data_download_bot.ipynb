{
 "cells": [
  {
   "cell_type": "code",
   "execution_count": 14,
   "metadata": {},
   "outputs": [],
   "source": [
    "from selenium import webdriver\n",
    "from selenium.webdriver.common.by import By\n",
    "import pandas as pd \n",
    "from datetime import date,datetime,timedelta\n",
    "from selenium.webdriver.support.ui import Select\n",
    "from selenium.webdriver.common.action_chains import ActionChains\n",
    "from selenium.webdriver.common.keys import Keys\n",
    "from selenium.webdriver.support.ui import WebDriverWait\n",
    "from selenium.webdriver.support import expected_conditions as EC\n",
    "import time\n",
    "import os\n",
    "import sys"
   ]
  },
  {
   "cell_type": "code",
   "execution_count": 15,
   "metadata": {},
   "outputs": [
    {
     "data": {
      "text/html": [
       "<div>\n",
       "<style scoped>\n",
       "    .dataframe tbody tr th:only-of-type {\n",
       "        vertical-align: middle;\n",
       "    }\n",
       "\n",
       "    .dataframe tbody tr th {\n",
       "        vertical-align: top;\n",
       "    }\n",
       "\n",
       "    .dataframe thead th {\n",
       "        text-align: right;\n",
       "    }\n",
       "</style>\n",
       "<table border=\"1\" class=\"dataframe\">\n",
       "  <thead>\n",
       "    <tr style=\"text-align: right;\">\n",
       "      <th></th>\n",
       "      <th>Co Names</th>\n",
       "    </tr>\n",
       "  </thead>\n",
       "  <tbody>\n",
       "    <tr>\n",
       "      <th>0</th>\n",
       "      <td>Apple Inc</td>\n",
       "    </tr>\n",
       "    <tr>\n",
       "      <th>1</th>\n",
       "      <td>Microsoft Corp</td>\n",
       "    </tr>\n",
       "    <tr>\n",
       "      <th>2</th>\n",
       "      <td>Alphabet Inc</td>\n",
       "    </tr>\n",
       "    <tr>\n",
       "      <th>3</th>\n",
       "      <td>Amazon.com Inc</td>\n",
       "    </tr>\n",
       "    <tr>\n",
       "      <th>4</th>\n",
       "      <td>Berkshire Hathaway Inc</td>\n",
       "    </tr>\n",
       "  </tbody>\n",
       "</table>\n",
       "</div>"
      ],
      "text/plain": [
       "                 Co Names\n",
       "0               Apple Inc\n",
       "1          Microsoft Corp\n",
       "2            Alphabet Inc\n",
       "3          Amazon.com Inc\n",
       "4  Berkshire Hathaway Inc"
      ]
     },
     "execution_count": 15,
     "metadata": {},
     "output_type": "execute_result"
    }
   ],
   "source": [
    "companies_list = pd.read_csv(\"company_name.csv\")\n",
    "companies_list.head()"
   ]
  },
  {
   "cell_type": "code",
   "execution_count": 16,
   "metadata": {},
   "outputs": [
    {
     "data": {
      "text/plain": [
       "1997"
      ]
     },
     "execution_count": 16,
     "metadata": {},
     "output_type": "execute_result"
    }
   ],
   "source": [
    "len(companies_list)"
   ]
  },
  {
   "cell_type": "code",
   "execution_count": 17,
   "metadata": {},
   "outputs": [],
   "source": [
    "companies_list_second = companies_list[1000:-1]"
   ]
  },
  {
   "cell_type": "code",
   "execution_count": 18,
   "metadata": {},
   "outputs": [],
   "source": [
    "companies_list = companies_list[:1000]"
   ]
  },
  {
   "cell_type": "code",
   "execution_count": null,
   "metadata": {},
   "outputs": [],
   "source": []
  },
  {
   "cell_type": "code",
   "execution_count": 20,
   "metadata": {},
   "outputs": [],
   "source": [
    "search_form_keys_template = r'ns=ntra and rst=fndw and hd=(\"Earnings Call - Final\" and \"QQ\" and \"Event Brief\")'\n",
    "search_form_keys_earning_calls_only_template = r'hd=(\"Earnings Call - Final\" and \"QQ\") not \"Event Brief\" and ns=ntra and rst=fndw'\n",
    "quarters = ['Q1','Q2','Q3','Q4']\n",
    "search_form_ID = r'ftx'\n",
    "date_select_ID = r'dr'\n",
    "date_select_text = r'Enter date range...'\n",
    "date_from_month_ID = r'frm'\n",
    "date_from_day_ID = r'frd'\n",
    "date_from_year_ID = r'fry'\n",
    "date_to_month_ID = r'tom'\n",
    "date_to_day_ID = r'tod'\n",
    "date_to_year_ID = r'toy'\n",
    "company_arrow_XPATH = r'//*[@id=\"coTab\"]/div[1]'\n",
    "company_promote_XPATH = r'//*[@id=\"coMnu\"]/ul/li[1]/a[3]'\n",
    "company_text_ID = r'coTxt'\n",
    "search_button_ID = r'btnSBSearch'\n",
    "select_all_files_button_XPATH =r'//*[@id=\"selectAll\"]/input'\n",
    "pdf_button_XPATH = r'//*[@id=\"listMenuRoot\"]/li[6]/a'\n",
    "headline_button_XPATH = r'//*[@id=\"listMenu-id-4\"]/li[3]/a'"
   ]
  },
  {
   "cell_type": "code",
   "execution_count": 21,
   "metadata": {},
   "outputs": [],
   "source": [
    "is_earning_calls_only = False"
   ]
  },
  {
   "cell_type": "code",
   "execution_count": 22,
   "metadata": {},
   "outputs": [],
   "source": [
    "chrome_options = webdriver.ChromeOptions()\n",
    "prefs = {'download.default_directory' : r\"\": False,\"disable-features\":\"DownloadUI\"}\n",
    "chrome_options.add_experimental_option('prefs', prefs)\n",
    "driver = webdriver.Chrome(options=chrome_options)\n",
    "driver.get(\"http://proxy.uchicago.edu/login?url=https://global.factiva.com/en/sess/login.asp?XSID=S003Wv90Gb95DEs5DEnODYqMDEsND7yMHn0VrJoWXNG2TBX4cjBQUFBQUFBQUFBQUFBQUFBQUFBQUFBQUFBQUFBQUFBQQAA\")"
   ]
  },
  {
   "cell_type": "code",
   "execution_count": 23,
   "metadata": {},
   "outputs": [],
   "source": [
    "downloads_tracker = {\n",
    "    'company' : [],\n",
    "    'from_date' : [],\n",
    "    'to_date' : [],\n",
    "    'status' : [],\n",
    "    'reason' : []\n",
    "}"
   ]
  },
  {
   "cell_type": "code",
   "execution_count": 24,
   "metadata": {},
   "outputs": [],
   "source": [
    "for i in range(len(companies_list)):\n",
    "    storage_path = r\"\" + str(companies_list.iloc[i,0]).replace(\"/\",\"\")\n",
    "    if not os.path.exists(storage_path):\n",
    "        os.mkdir(storage_path)\n",
    "    for quarter in quarters:\n",
    "        status = False\n",
    "        reason = \"\"\n",
    "        driver.get(\"http://proxy.uchicago.edu/login?url=https://global.factiva.com/en/sess/login.asp?XSID=S003Wv90Gb95DEs5DEnODYqMDEsND7yMHn0VrJoWXNG2TBX4cjBQUFBQUFBQUFBQUFBQUFBQUFBQUFBQUFBQUFBQUFBQQAA\")\n",
    "        company = companies_list.iloc[i,0]\n",
    "        try:\n",
    "            while driver.find_element(By.ID,date_select_ID) == []:\n",
    "                pass    \n",
    "            \n",
    "            # selecting date\n",
    "            date_selector = Select(driver.find_element(By.ID,date_select_ID))\n",
    "            date_selector.select_by_visible_text(date_select_text)\n",
    "            \n",
    "            #Selecting From Date\n",
    "            month_input = driver.find_element(By.ID,date_from_month_ID)\n",
    "            day_iput = driver.find_element(By.ID,date_from_day_ID)\n",
    "            year_input = driver.find_element(By.ID,date_from_year_ID)\n",
    "            month_input.send_keys(\"01\")\n",
    "            day_iput.send_keys(\"01\")\n",
    "            year_input.send_keys(\"2008\")\n",
    "            \n",
    "            #Selecting To Date\n",
    "            month_input = driver.find_element(By.ID,date_to_month_ID)\n",
    "            day_iput = driver.find_element(By.ID,date_to_day_ID)\n",
    "            year_input = driver.find_element(By.ID,date_to_year_ID)\n",
    "            month_input.send_keys(\"01\")\n",
    "            day_iput.send_keys(\"01\")\n",
    "            year_input.send_keys(\"2024\")\n",
    "            \n",
    "            # Clicking the company button\n",
    "            company_button = driver.find_element(By.XPATH,company_arrow_XPATH)\n",
    "            company_button.click()\n",
    "\n",
    "            # # Selecting the company\n",
    "            time.sleep(2)\n",
    "            company_form = driver.find_element(By.ID,company_text_ID)\n",
    "            search_form = driver.find_element(By.ID,search_form_ID)\n",
    "            company_form.send_keys(company)\n",
    "            time.sleep(2)\n",
    "            company_form.send_keys(Keys.DOWN,Keys.ENTER)\n",
    "            \n",
    "            \n",
    "            # Setting the Search form textbox \n",
    "            search_form = driver.find_element(By.ID,search_form_ID)\n",
    "            if is_earning_calls_only:\n",
    "                search_form_keys_earning_calls_only = search_form_keys_earning_calls_only_template.replace(\"QQ\",quarter)\n",
    "                search_form.send_keys(search_form_keys_earning_calls_only)\n",
    "            else:\n",
    "                search_form_keys = search_form_keys_template.replace(\"QQ\",quarter)\n",
    "                search_form.send_keys(search_form_keys)\n",
    "\n",
    "            # Clicking the search button\n",
    "            search_button = driver.find_element(By.ID,search_button_ID)\n",
    "            search_button.click()\n",
    "            #Selecting all files\n",
    "            time.sleep(2)\n",
    "            select_all_files_checkbox_search = driver.find_elements(By.XPATH,select_all_files_button_XPATH)\n",
    "            if select_all_files_checkbox_search == []:\n",
    "                status = False\n",
    "                reason = \"No Files\"\n",
    "            else:\n",
    "                select_all_files_checkbox = driver.find_element(By.XPATH,select_all_files_button_XPATH)\n",
    "                select_all_files_checkbox.click()\n",
    "                time.sleep(2)\n",
    "                # Downloading All  Files\n",
    "                new_file_name = str(companies_list.iloc[i,0]).replace(\"/\",\"\") + \"_20080101_20240101_\" + quarter + \".pdf\"\n",
    "                driver.execute_script(r\"viewProcessing('../pps/default.aspx?pp=PDF&ppstype=HeadlineWithArticleTOC',true);resetAction(); if(window.event)window.event.cancelBubble = true;return false;\")\n",
    "                time.sleep(5)\n",
    "                for filename in os.listdir(prefs['download.default_directory']):\n",
    "                    f = os.path.join(prefs['download.default_directory'], filename)\n",
    "                    # checking if it is a file\n",
    "                    if os.path.isfile(f):\n",
    "                        os.replace(f, storage_path + \"\\\\\" + new_file_name)\n",
    "                        status = True\n",
    "                        reason = \"\"\n",
    "                    else:\n",
    "                        status = False\n",
    "                        reason = \"Too Many Files\"\n",
    "                        \n",
    "        except Exception as e:\n",
    "            status = False\n",
    "            line_no = sys.exc_info()[-1].tb_lineno\n",
    "            reason = \" LineNo: \" + str(line_no) + \" Error: \" + str(e)\n",
    "        downloads_tracker['company'].append(companies_list.iloc[i,0])\n",
    "        downloads_tracker['from_date'].append(\"2008/01/01\")\n",
    "        downloads_tracker['to_date'].append(\"2024/01/01\")\n",
    "        downloads_tracker['status'].append(status)\n",
    "        downloads_tracker['reason'].append(reason)"
   ]
  },
  {
   "cell_type": "code",
   "execution_count": 25,
   "metadata": {},
   "outputs": [],
   "source": [
    "output_result = pd.DataFrame(downloads_tracker)\n",
    "output_result.to_csv(\"run2.csv\")"
   ]
  }
 ],
 "metadata": {
  "kernelspec": {
   "display_name": "everything",
   "language": "python",
   "name": "python3"
  },
  "language_info": {
   "codemirror_mode": {
    "name": "ipython",
    "version": 3
   },
   "file_extension": ".py",
   "mimetype": "text/x-python",
   "name": "python",
   "nbconvert_exporter": "python",
   "pygments_lexer": "ipython3",
   "version": "3.10.9"
  },
  "orig_nbformat": 4
 },
 "nbformat": 4,
 "nbformat_minor": 2
}
